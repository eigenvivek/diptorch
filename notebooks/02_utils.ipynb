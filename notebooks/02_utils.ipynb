{
 "cells": [
  {
   "cell_type": "markdown",
   "id": "84b24755-6f20-408a-8512-bedbb281d7bb",
   "metadata": {},
   "source": [
    "# utils\n",
    "\n",
    "> Utility functions"
   ]
  },
  {
   "cell_type": "code",
   "execution_count": null,
   "id": "cab18724-566d-48d9-a83b-ee3750096a6e",
   "metadata": {},
   "outputs": [],
   "source": [
    "#| default_exp utils"
   ]
  },
  {
   "cell_type": "code",
   "execution_count": null,
   "id": "7c9f7022-b5e0-47fe-88ac-2e56e4906103",
   "metadata": {},
   "outputs": [],
   "source": [
    "#| hide\n",
    "from nbdev.showdoc import *"
   ]
  },
  {
   "cell_type": "code",
   "execution_count": null,
   "id": "00e971d6-d9d2-49d6-a8fb-06dfab8ee223",
   "metadata": {},
   "outputs": [],
   "source": [
    "#| export\n",
    "import torch\n",
    "from skimage import img_as_float\n",
    "from skimage.color import rgb2gray\n",
    "from skimage.data import astronaut as _astronaut"
   ]
  },
  {
   "cell_type": "code",
   "execution_count": null,
   "id": "3f690776-6e19-4438-a96e-c997295d6256",
   "metadata": {},
   "outputs": [],
   "source": [
    "#| export\n",
    "def astronaut(dtype: torch.dtype = torch.float32):\n",
    "    img = _astronaut()\n",
    "    img = img_as_float(img)\n",
    "    img = rgb2gray(img)\n",
    "    img = torch.from_numpy(img).to(dtype)\n",
    "    return img[None, None]"
   ]
  },
  {
   "cell_type": "code",
   "execution_count": null,
   "id": "a057f446-c65b-4935-b32e-bca776cb34ec",
   "metadata": {},
   "outputs": [],
   "source": [
    "#| export\n",
    "import matplotlib.pyplot as plt\n",
    "\n",
    "\n",
    "def imshow(*imgs):\n",
    "    imgs = [img.squeeze().detach().cpu() for img in imgs]\n",
    "    n_imgs = len(imgs)\n",
    "    fig, axs = plt.subplots(ncols=n_imgs, figsize=(n_imgs * 2 + 2, 3))\n",
    "    for ax, img in zip(axs, imgs):\n",
    "        ax.imshow(img, cmap=\"gray\")\n",
    "        ax.axis(\"off\")\n",
    "    plt.tight_layout()\n",
    "    return fig, axs"
   ]
  },
  {
   "cell_type": "code",
   "execution_count": null,
   "id": "85a82e34-6575-4eca-bf40-f482df938130",
   "metadata": {},
   "outputs": [],
   "source": [
    "#| hide\n",
    "import nbdev\n",
    "\n",
    "nbdev.nbdev_export()"
   ]
  },
  {
   "cell_type": "code",
   "execution_count": null,
   "id": "97b5bac4-6488-4c92-a8f7-bac246e2ebf3",
   "metadata": {},
   "outputs": [],
   "source": []
  }
 ],
 "metadata": {
  "kernelspec": {
   "display_name": "python3",
   "language": "python",
   "name": "python3"
  }
 },
 "nbformat": 4,
 "nbformat_minor": 5
}
