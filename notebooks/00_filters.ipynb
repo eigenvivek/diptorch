{
 "cells": [
  {
   "cell_type": "markdown",
   "metadata": {},
   "source": [
    "# filters\n",
    "\n",
    "> Linear convolution filters"
   ]
  },
  {
   "cell_type": "code",
   "execution_count": null,
   "metadata": {},
   "outputs": [],
   "source": [
    "#| default_exp filters"
   ]
  },
  {
   "cell_type": "code",
   "execution_count": null,
   "metadata": {},
   "outputs": [],
   "source": [
    "#| hide\n",
    "from nbdev.showdoc import *"
   ]
  },
  {
   "cell_type": "code",
   "execution_count": null,
   "metadata": {},
   "outputs": [],
   "source": [
    "#| export\n",
    "from math import ceil, sqrt\n",
    "from typing import Callable\n",
    "\n",
    "import torch\n",
    "import torch.nn.functional as F"
   ]
  },
  {
   "cell_type": "markdown",
   "metadata": {},
   "source": [
    "## Gaussian filter\n",
    "\n",
    "Implements filtering with a $k$-order Gaussian derivative as a series of 1D convolutions. Currently supports up to second-order derivatives."
   ]
  },
  {
   "cell_type": "code",
   "execution_count": null,
   "metadata": {},
   "outputs": [],
   "source": [
    "#| export\n",
    "def gaussian_filter(\n",
    "    img: torch.Tensor,  # The input tensor\n",
    "    sigma: float,  # Standard deviation for the Gaussian kernel\n",
    "    order: int | list = 0,  # The order of the filter's derivative along each dim\n",
    "    mode: str = \"reflect\",  # Padding mode for `torch.nn.functional.pad`\n",
    "    truncate: float = 4.0,  # Number of standard deviations to sample the filter\n",
    ") -> torch.Tensor:\n",
    "    \"\"\"\n",
    "    Convolves an image with a Gaussian kernel (or its derivatives).\n",
    "\n",
    "    Inspired by the API of `scipy.ndimage.gaussian_filter` and the\n",
    "    implementation of `diplib.Gauss`.\n",
    "    \"\"\"\n",
    "\n",
    "    # Specify the dimensions of the convolution to use\n",
    "    ndim = img.ndim - 2\n",
    "    if isinstance(order, int):\n",
    "        order = [order] * ndim\n",
    "    else:\n",
    "        assert len(order) == ndim, \"Specify the Gaussian derivative order for each dim\"\n",
    "    convfn = getattr(F, f\"conv{ndim}d\")\n",
    "\n",
    "    # Convolve along the rows, columns, and depth (optional)\n",
    "    for dim, derivative_order in enumerate(order):\n",
    "        img = _conv(img, convfn, sigma, derivative_order, truncate, mode, dim)\n",
    "    return img"
   ]
  },
  {
   "cell_type": "code",
   "execution_count": null,
   "metadata": {},
   "outputs": [],
   "source": [
    "#| exporti\n",
    "def _gaussian_kernel_1d(\n",
    "    sigma: float, order: int, truncate: float, dtype: torch.dtype, device: torch.device\n",
    ") -> torch.Tensor:\n",
    "    # Set the size of the kernel according to the sigma\n",
    "    radius = ceil(sigma * truncate)\n",
    "    x = torch.arange(-radius, radius + 1, dtype=dtype, device=device)\n",
    "\n",
    "    # Initialize the zeroth-order Gaussian kernel\n",
    "    var = sigma**2\n",
    "    g = (-x.pow(2) / (2 * var)).exp() / (sqrt(2 * torch.pi) * sigma)\n",
    "\n",
    "    # Optionally convert to a higher-order kernel\n",
    "    if order == 0:\n",
    "        return g\n",
    "    elif order == 1:\n",
    "        g1 = g * (-x / var)\n",
    "        g1 -= g1.mean()\n",
    "        g1 /= (g1 * x).sum() / -1  # Normalize the filter's impulse response to -1\n",
    "        return g1\n",
    "    elif order == 2:\n",
    "        g2 = g * (x.pow(2) / var - 1) / var\n",
    "        g2 -= g2.mean()\n",
    "        g2 /= (g2 * x.pow(2)).sum() / 2  # Normalize the filter's impulse response to 2\n",
    "        return g2\n",
    "    else:\n",
    "        raise NotImplementedError(f\"Only supports order in [0, 1, 2], not {order}\")\n",
    "\n",
    "\n",
    "def _conv(\n",
    "    img: torch.Tensor,\n",
    "    convfn: Callable,\n",
    "    sigma: float,\n",
    "    order: int,\n",
    "    truncate: float,\n",
    "    mode: str,\n",
    "    dim: int,\n",
    "):\n",
    "    # Make a 1D kernel and pad such that the image size remains the same\n",
    "    kernel = _gaussian_kernel_1d(sigma, order, truncate, img.dtype, img.device)\n",
    "    padding = len(kernel) // 2\n",
    "\n",
    "    # Specify the padding dimensions\n",
    "    pad = [0] * 2 * (img.ndim - 2)\n",
    "    for idx in range(2 * dim, 2 * dim + 2):\n",
    "        pad[idx] = padding\n",
    "    pad = pad[::-1]\n",
    "    x = F.pad(img, pad, mode=mode)\n",
    "\n",
    "    # Specify the dimension along which to do the convolution\n",
    "    view = [1] * img.ndim\n",
    "    view[dim + 2] *= -1\n",
    "\n",
    "    return convfn(x, weight=kernel.view(*view))"
   ]
  },
  {
   "cell_type": "markdown",
   "metadata": {},
   "source": [
    "## Hessian matrix of an image"
   ]
  },
  {
   "cell_type": "code",
   "execution_count": null,
   "metadata": {},
   "outputs": [],
   "source": [
    "#| export\n",
    "def hessian(img: torch.Tensor, sigma: float, **kwargs) -> torch.Tensor:\n",
    "    \"\"\"Compute the Hessian of a 2D or 3D image.\"\"\"\n",
    "    if img.ndim == 4:\n",
    "        return _hessian_2d(img, sigma, **kwargs)\n",
    "    elif img.ndim == 5:\n",
    "        return _hessian_3d(img, sigma, **kwargs)\n",
    "    else:\n",
    "        raise ValueError(f\"img can only be 2D or 3D, not {img.ndim-2}D\")"
   ]
  },
  {
   "cell_type": "code",
   "execution_count": null,
   "metadata": {},
   "outputs": [],
   "source": [
    "#| exporti\n",
    "def _hessian_2d(img: torch.Tensor, sigma: float, **kwargs):\n",
    "    xx = gaussian_filter(img, sigma, order=[0, 2], **kwargs).squeeze()\n",
    "    yy = gaussian_filter(img, sigma, order=[2, 0], **kwargs).squeeze()\n",
    "    xy = gaussian_filter(img, sigma, order=[1, 1], **kwargs).squeeze()\n",
    "    return torch.stack(\n",
    "        [\n",
    "            torch.stack([xx, xy], dim=-1),\n",
    "            torch.stack([xy, yy], dim=-1),\n",
    "        ],\n",
    "        dim=-1,\n",
    "    )\n",
    "\n",
    "\n",
    "def _hessian_3d(img: torch.Tensor, sigma: float, **kwargs):\n",
    "    xx = gaussian_filter(img, sigma, order=[0, 0, 2], **kwargs).squeeze()\n",
    "    yy = gaussian_filter(img, sigma, order=[0, 2, 0], **kwargs).squeeze()\n",
    "    zz = gaussian_filter(img, sigma, order=[2, 0, 0], **kwargs).squeeze()\n",
    "    xy = gaussian_filter(img, sigma, order=[0, 1, 1], **kwargs).squeeze()\n",
    "    xz = gaussian_filter(img, sigma, order=[1, 0, 1], **kwargs).squeeze()\n",
    "    yz = gaussian_filter(img, sigma, order=[1, 1, 0], **kwargs).squeeze()\n",
    "    return torch.stack(\n",
    "        [\n",
    "            torch.stack([xx, xy, xz], dim=-1),\n",
    "            torch.stack([xy, yy, yz], dim=-1),\n",
    "            torch.stack([xz, yz, zz], dim=-1),\n",
    "        ],\n",
    "        dim=-1,\n",
    "    )"
   ]
  },
  {
   "cell_type": "code",
   "execution_count": null,
   "metadata": {},
   "outputs": [],
   "source": [
    "#| hide\n",
    "import nbdev\n",
    "\n",
    "nbdev.nbdev_export()"
   ]
  },
  {
   "cell_type": "code",
   "execution_count": null,
   "metadata": {},
   "outputs": [],
   "source": []
  }
 ],
 "metadata": {
  "kernelspec": {
   "display_name": "python3",
   "language": "python",
   "name": "python3"
  },
  "widgets": {
   "application/vnd.jupyter.widget-state+json": {
    "state": {},
    "version_major": 2,
    "version_minor": 0
   }
  }
 },
 "nbformat": 4,
 "nbformat_minor": 4
}
