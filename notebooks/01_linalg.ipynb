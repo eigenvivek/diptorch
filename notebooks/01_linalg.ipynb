{
 "cells": [
  {
   "cell_type": "markdown",
   "id": "b78b6e34-e6c6-4ab3-bb21-218fc4303aee",
   "metadata": {},
   "source": [
    "# linalg\n",
    "\n",
    "> Numerical linear algebra utilities"
   ]
  },
  {
   "cell_type": "code",
   "execution_count": null,
   "id": "d13607a9-04bb-40ab-b706-c328fbca830e",
   "metadata": {},
   "outputs": [],
   "source": [
    "#| default_exp linalg"
   ]
  },
  {
   "cell_type": "code",
   "execution_count": null,
   "id": "d579d902-b2ad-4fc5-b708-49491e1a5518",
   "metadata": {},
   "outputs": [],
   "source": [
    "#| hide\n",
    "from nbdev.showdoc import *"
   ]
  },
  {
   "cell_type": "code",
   "execution_count": null,
   "id": "b696d7ad-1870-4288-abb2-c3dac0bfe288",
   "metadata": {},
   "outputs": [],
   "source": [
    "#| export\n",
    "import torch"
   ]
  },
  {
   "cell_type": "markdown",
   "id": "c56dc1fd-d38b-4633-884a-8073fca45bf7",
   "metadata": {},
   "source": [
    "## 2×2 and 3×3 Hermitian eigenvalue solvers\n",
    "\n",
    "Direct eigenvalue calculators for special matrices for which closed-form solutions exist (see [here](https://en.wikipedia.org/wiki/Eigenvalue_algorithm#Direct_calculation) for more details)."
   ]
  },
  {
   "cell_type": "code",
   "execution_count": null,
   "id": "64c35b6d-264c-4232-b78b-01cf3fcfcc1b",
   "metadata": {},
   "outputs": [],
   "source": [
    "#| exporti\n",
    "def _is_square(A: torch.Tensor) -> bool:\n",
    "    _, i, j, *_ = A.shape\n",
    "    assert i == j, \"Matrix is not square\"\n",
    "\n",
    "\n",
    "def _is_hermitian(A: torch.Tensor) -> bool:\n",
    "    return torch.testing.assert_close(\n",
    "        A, A.transpose(1, 2).conj(), msg=\"Matrix is not Hermitian\"\n",
    "    )"
   ]
  },
  {
   "cell_type": "code",
   "execution_count": null,
   "id": "eb8c753b-90d2-42c3-8137-3f626f86b4d2",
   "metadata": {},
   "outputs": [],
   "source": [
    "#| export\n",
    "def eigvalsh(A: torch.Tensor, check_valid: bool = True) -> torch.Tensor:\n",
    "    \"\"\"\n",
    "    Compute the eigenvalues of a batched tensor with shape [B C C H W (D)]\n",
    "    where C is 2 or 3, and the tensor is Hermitian in dimensions 1 and 2.\n",
    "\n",
    "    Returns eigenvalues in a tensor with shape [1 2 H W] or [1 3 H W D],\n",
    "    for 2D and 3D inputs, respectively, sorted in ascending order.\n",
    "    \"\"\"\n",
    "    if check_valid:\n",
    "        _is_square(A)\n",
    "        _is_hermitian(A)\n",
    "    if A.shape[1] == 2:\n",
    "        return eigvalsh2(*A[:, *torch.triu_indices(2, 2)].split(1, dim=1))\n",
    "    elif A.shape[1] == 3:\n",
    "        return eigvalsh3(*A[:, *torch.triu_indices(3, 3)].split(1, dim=1))\n",
    "    else:\n",
    "        raise ValueError(\"Only supports 2×2 and 3×3 matrices\")"
   ]
  },
  {
   "cell_type": "code",
   "execution_count": null,
   "id": "4cd3b7c0-aea4-4ea6-8bea-d5448c877142",
   "metadata": {},
   "outputs": [],
   "source": [
    "#| export\n",
    "def eigvalsh2(ii: torch.Tensor, ij: torch.Tensor, jj: torch.Tensor) -> torch.Tensor:\n",
    "    \"\"\"\n",
    "    Compute the eigenvalues of a batched Hermitian 2×2 tensor\n",
    "    where blocks have shape [1 1 H W].\n",
    "\n",
    "    Returns eigenvalues in a tensor with shape [1 2 H W]\n",
    "    sorted in ascending order.\n",
    "    \"\"\"\n",
    "    tr = ii + jj\n",
    "    det = ii * jj - ij.square()\n",
    "\n",
    "    disc = (tr.square() - 4 * det).sqrt()\n",
    "    disc = torch.concat([-disc, disc], dim=1)\n",
    "\n",
    "    eigvals = (tr + disc) / 2\n",
    "    return eigvals"
   ]
  },
  {
   "cell_type": "code",
   "execution_count": null,
   "id": "07713224-ffe2-4eb9-a8cc-074eeb1f491b",
   "metadata": {},
   "outputs": [],
   "source": [
    "#| export\n",
    "def eigvalsh3(\n",
    "    ii: torch.Tensor,\n",
    "    ij: torch.Tensor,\n",
    "    ik: torch.Tensor,\n",
    "    jj: torch.Tensor,\n",
    "    jk: torch.Tensor,\n",
    "    kk: torch.Tensor,\n",
    "    eps: float = 1e-8,\n",
    ") -> torch.Tensor:\n",
    "    \"\"\"\n",
    "    Compute the eigenvalues of a batched Hermitian 3×3 tensor\n",
    "    where blocks have shape [1 1 H W D].\n",
    "\n",
    "    Returns eigenvalues in a tensor with shape [1 3 H W D]\n",
    "    sorted in ascending order.\n",
    "    \"\"\"\n",
    "    diag = torch.concat([ii, jj, kk], dim=1)\n",
    "    triu = torch.concat([ij, ik, jk], dim=1)\n",
    "    \n",
    "    q = diag.sum(dim=1, keepdim=True) / 3\n",
    "    p1 = triu.square().sum(dim=1, keepdim=True)\n",
    "    p2 = (diag - q).square().sum(dim=1, keepdim=True)\n",
    "    p = ((2 * p1 + p2) / 6).sqrt()\n",
    "\n",
    "    r = deth3(ii - q, ij, ik, jj - q, jk, kk - q) / (p.pow(3) + eps) / 2\n",
    "    r = r.clamp(-1, 1)\n",
    "    phi = r.arccos() / 3\n",
    "\n",
    "    eig3 = q + 2 * p * phi.cos()\n",
    "    eig1 = q + 2 * p * (phi + 2 * torch.pi / 3).cos()\n",
    "    eig2 = 3 * q - eig1 - eig3\n",
    "    return torch.concat([eig1, eig2, eig3], dim=1)"
   ]
  },
  {
   "cell_type": "code",
   "execution_count": null,
   "id": "f12bfa8e-7757-4742-8389-3b6f08179552",
   "metadata": {},
   "outputs": [],
   "source": [
    "#| exporti\n",
    "def deth3(ii, ij, ik, jj, jk, kk):\n",
    "    return (\n",
    "        ii * jj * kk\n",
    "        + 2 * ij * ik * jk\n",
    "        - ii * jk.square()\n",
    "        - jj * ik.square()\n",
    "        - kk * ij.square()\n",
    "    )"
   ]
  },
  {
   "cell_type": "markdown",
   "id": "339315e4-4234-4a83-bb49-f5fa302d0371",
   "metadata": {},
   "source": [
    "### Testing\n",
    "\n",
    "Our closed-form solvers are numerically equivalent to `torch.linalg.eigvalsh`.\n",
    "Unsurprisingly, our implementation is also much faster than PyTorch's solver."
   ]
  },
  {
   "cell_type": "code",
   "execution_count": null,
   "id": "532bfdff-1dd5-4e4a-8902-e6ff20b77590",
   "metadata": {},
   "outputs": [],
   "source": [
    "# Test the 2×2 implementation is equivalent to torch's eigvalsh\n",
    "A = torch.randn(100, 2, 2, 30, 30)\n",
    "A = A + A.transpose(1, 2)  # Make A Hermitian\n",
    "\n",
    "torch.testing.assert_close(\n",
    "    eigvalsh(A),\n",
    "    torch.linalg.eigvalsh(A.permute(0, -2, -1, 1, 2)).permute(0, -1, 1, 2),\n",
    "    rtol=1e-5,\n",
    "    atol=1e-4,\n",
    ")"
   ]
  },
  {
   "cell_type": "code",
   "execution_count": null,
   "id": "0b654569-01b7-4d66-8653-e38ad8ff3629",
   "metadata": {},
   "outputs": [
    {
     "name": "stdout",
     "output_type": "stream",
     "text": [
      "1.61 ms ± 14.8 µs per loop (mean ± std. dev. of 7 runs, 1,000 loops each)\n"
     ]
    }
   ],
   "source": [
    "# Time diptorch's implementation\n",
    "%timeit eigvalsh(A)"
   ]
  },
  {
   "cell_type": "code",
   "execution_count": null,
   "id": "58d45054-3dac-4ac2-8cd9-786541854deb",
   "metadata": {},
   "outputs": [
    {
     "name": "stdout",
     "output_type": "stream",
     "text": [
      "43.7 ms ± 40.7 µs per loop (mean ± std. dev. of 7 runs, 10 loops each)\n"
     ]
    }
   ],
   "source": [
    "# Time torch's implementation\n",
    "B = A.permute(0, -2, -1, 1, 2)\n",
    "%timeit torch.linalg.eigvalsh(B)"
   ]
  },
  {
   "cell_type": "code",
   "execution_count": null,
   "id": "11f5a9e6-a1e1-43cd-93c7-afa87de88b92",
   "metadata": {},
   "outputs": [],
   "source": [
    "# Test the 3×3 implementation is equivalent to torch's eigh\n",
    "A = torch.randn(100, 3, 3, 30, 30)\n",
    "A = A + A.transpose(1, 2)  # Make A Hermitian\n",
    "\n",
    "torch.testing.assert_close(\n",
    "    eigvalsh(A),\n",
    "    torch.linalg.eigvalsh(A.permute(0, -2, -1, 1, 2)).permute(0, -1, 1, 2),\n",
    "    rtol=1e-5,\n",
    "    atol=1e-4,\n",
    ")"
   ]
  },
  {
   "cell_type": "code",
   "execution_count": null,
   "id": "3eac5bd1-9704-43c7-9aba-131e95790fcd",
   "metadata": {},
   "outputs": [
    {
     "name": "stdout",
     "output_type": "stream",
     "text": [
      "5.78 ms ± 11 µs per loop (mean ± std. dev. of 7 runs, 100 loops each)\n"
     ]
    }
   ],
   "source": [
    "# Time diptorch's implementation\n",
    "%timeit eigvalsh(A)"
   ]
  },
  {
   "cell_type": "code",
   "execution_count": null,
   "id": "1ceecc93-e204-41fe-9c3a-3cf2bbaccb7e",
   "metadata": {},
   "outputs": [
    {
     "name": "stdout",
     "output_type": "stream",
     "text": [
      "97.8 ms ± 766 µs per loop (mean ± std. dev. of 7 runs, 10 loops each)\n"
     ]
    }
   ],
   "source": [
    "# Time torch's implementation\n",
    "B = A.permute(0, -2, -1, 1, 2)\n",
    "%timeit torch.linalg.eigvalsh(B)"
   ]
  },
  {
   "cell_type": "code",
   "execution_count": null,
   "id": "3925420d-89b0-4291-96d2-a1a64ff98617",
   "metadata": {},
   "outputs": [],
   "source": [
    "#| hide\n",
    "import nbdev\n",
    "\n",
    "nbdev.nbdev_export()"
   ]
  },
  {
   "cell_type": "code",
   "execution_count": null,
   "id": "e95504de-5b2d-4ca4-be5d-e8fa5b3eff8e",
   "metadata": {},
   "outputs": [],
   "source": []
  }
 ],
 "metadata": {
  "kernelspec": {
   "display_name": "python3",
   "language": "python",
   "name": "python3"
  }
 },
 "nbformat": 4,
 "nbformat_minor": 5
}
