{
 "cells": [
  {
   "cell_type": "markdown",
   "id": "b78b6e34-e6c6-4ab3-bb21-218fc4303aee",
   "metadata": {},
   "source": [
    "# linalg\n",
    "\n",
    "> Numerical linear algebra implementations"
   ]
  },
  {
   "cell_type": "code",
   "execution_count": null,
   "id": "d13607a9-04bb-40ab-b706-c328fbca830e",
   "metadata": {},
   "outputs": [],
   "source": [
    "#| default_exp linalg"
   ]
  },
  {
   "cell_type": "code",
   "execution_count": null,
   "id": "d579d902-b2ad-4fc5-b708-49491e1a5518",
   "metadata": {},
   "outputs": [],
   "source": [
    "#| hide\n",
    "from nbdev.showdoc import *"
   ]
  },
  {
   "cell_type": "code",
   "execution_count": null,
   "id": "b696d7ad-1870-4288-abb2-c3dac0bfe288",
   "metadata": {},
   "outputs": [],
   "source": [
    "#| export\n",
    "import torch"
   ]
  },
  {
   "cell_type": "markdown",
   "id": "c56dc1fd-d38b-4633-884a-8073fca45bf7",
   "metadata": {},
   "source": [
    "## 2×2 and 3×3 Hermitian eigenvalue solvers\n",
    "\n",
    "Direct eigenvalue calculators for special matrices for which closed-form solutions exist (see [here](https://en.wikipedia.org/wiki/Eigenvalue_algorithm#Direct_calculation) for more details)."
   ]
  },
  {
   "cell_type": "code",
   "execution_count": null,
   "id": "4cd3b7c0-aea4-4ea6-8bea-d5448c877142",
   "metadata": {},
   "outputs": [],
   "source": [
    "#| export\n",
    "def eigvalsh2(ii, ij, jj):\n",
    "    tr = ii + jj\n",
    "    det = ii * jj - ii.square()\n",
    "\n",
    "    disc = (tr.square() - 4 * det).sqrt()\n",
    "    disc = torch.concat([-disc, disc], dim=-1)\n",
    "\n",
    "    eigvals = (tr + disc) / 2\n",
    "    return eigvals"
   ]
  },
  {
   "cell_type": "code",
   "execution_count": null,
   "id": "bb7c668b-6f26-4ca9-a6fd-a67eace96eb3",
   "metadata": {},
   "outputs": [],
   "source": []
  },
  {
   "cell_type": "code",
   "execution_count": null,
   "id": "3925420d-89b0-4291-96d2-a1a64ff98617",
   "metadata": {},
   "outputs": [],
   "source": [
    "#| hide\n",
    "import nbdev\n",
    "\n",
    "nbdev.nbdev_export()"
   ]
  },
  {
   "cell_type": "code",
   "execution_count": null,
   "id": "453bef7f-a3c0-4fdd-874c-d39bece18654",
   "metadata": {},
   "outputs": [],
   "source": []
  }
 ],
 "metadata": {
  "kernelspec": {
   "display_name": "python3",
   "language": "python",
   "name": "python3"
  }
 },
 "nbformat": 4,
 "nbformat_minor": 5
}
