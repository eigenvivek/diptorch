{
 "cells": [
  {
   "cell_type": "markdown",
   "id": "b78b6e34-e6c6-4ab3-bb21-218fc4303aee",
   "metadata": {},
   "source": [
    "# linalg\n",
    "\n",
    "> Numerical linear algebra implementations"
   ]
  },
  {
   "cell_type": "code",
   "execution_count": null,
   "id": "d13607a9-04bb-40ab-b706-c328fbca830e",
   "metadata": {},
   "outputs": [],
   "source": [
    "#| default_exp linalg"
   ]
  },
  {
   "cell_type": "code",
   "execution_count": null,
   "id": "d579d902-b2ad-4fc5-b708-49491e1a5518",
   "metadata": {},
   "outputs": [],
   "source": [
    "#| hide\n",
    "from nbdev.showdoc import *"
   ]
  },
  {
   "cell_type": "code",
   "execution_count": null,
   "id": "b696d7ad-1870-4288-abb2-c3dac0bfe288",
   "metadata": {},
   "outputs": [],
   "source": [
    "#| export\n",
    "import torch"
   ]
  },
  {
   "cell_type": "markdown",
   "id": "c56dc1fd-d38b-4633-884a-8073fca45bf7",
   "metadata": {},
   "source": [
    "## 2×2 and 3×3 Hermitian eigenvalue solvers\n",
    "\n",
    "Direct eigenvalue calculators for special matrices for which closed-form solutions exist (see [here](https://en.wikipedia.org/wiki/Eigenvalue_algorithm#Direct_calculation) for more details)."
   ]
  },
  {
   "cell_type": "code",
   "execution_count": null,
   "id": "64c35b6d-264c-4232-b78b-01cf3fcfcc1b",
   "metadata": {},
   "outputs": [],
   "source": [
    "#| exporti\n",
    "def _is_square(A: torch.Tensor) -> bool:\n",
    "    *_, i, j = A.shape\n",
    "    assert i == j, \"Matrix is not square\"\n",
    "\n",
    "\n",
    "def _is_hermitian(A: torch.Tensor) -> bool:\n",
    "    return torch.testing.assert_close(A, A.mH, msg=\"Matrix is not Hermitian\")"
   ]
  },
  {
   "cell_type": "code",
   "execution_count": null,
   "id": "eb8c753b-90d2-42c3-8137-3f626f86b4d2",
   "metadata": {},
   "outputs": [],
   "source": [
    "#| export\n",
    "def eigvalsh(A: torch.Tensor, check_valid: bool = True) -> torch.Tensor:\n",
    "    if check_valid:\n",
    "        _is_square(A)\n",
    "        _is_hermitian(A)\n",
    "    if A.shape[-1] == 2:\n",
    "        return eigvalsh2(*A[..., *torch.triu_indices(2, 2)].split(1, dim=-1))\n",
    "    elif A.shape[-1] == 3:\n",
    "        return eigvalsh3(*A[..., *torch.triu_indices(3, 3)].split(1, dim=-1))\n",
    "    else:\n",
    "        return ValueError(\"Only supports 2×2 and 3×3 matrices\")"
   ]
  },
  {
   "cell_type": "code",
   "execution_count": null,
   "id": "4cd3b7c0-aea4-4ea6-8bea-d5448c877142",
   "metadata": {},
   "outputs": [],
   "source": [
    "#| export\n",
    "def eigvalsh2(ii, ij, jj):\n",
    "    tr = ii + jj\n",
    "    det = ii * jj - ij.square()\n",
    "\n",
    "    disc = (tr.square() - 4 * det).sqrt()\n",
    "    disc = torch.concat([-disc, disc], dim=-1)\n",
    "\n",
    "    eigvals = (tr + disc) / 2\n",
    "    return eigvals"
   ]
  },
  {
   "cell_type": "code",
   "execution_count": null,
   "id": "07713224-ffe2-4eb9-a8cc-074eeb1f491b",
   "metadata": {},
   "outputs": [],
   "source": [
    "#| export\n",
    "def eigvalsh3(ii, ij, ik, jj, jk, kk):\n",
    "    pass"
   ]
  },
  {
   "cell_type": "code",
   "execution_count": null,
   "id": "3925420d-89b0-4291-96d2-a1a64ff98617",
   "metadata": {},
   "outputs": [],
   "source": [
    "#| hide\n",
    "import nbdev\n",
    "\n",
    "nbdev.nbdev_export()"
   ]
  },
  {
   "cell_type": "code",
   "execution_count": null,
   "id": "e4062d36-94e2-45bb-b794-9bd521b9d1f8",
   "metadata": {},
   "outputs": [],
   "source": []
  }
 ],
 "metadata": {
  "kernelspec": {
   "display_name": "python3",
   "language": "python",
   "name": "python3"
  }
 },
 "nbformat": 4,
 "nbformat_minor": 5
}
