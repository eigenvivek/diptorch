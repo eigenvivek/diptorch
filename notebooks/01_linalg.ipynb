{
 "cells": [
  {
   "cell_type": "markdown",
   "id": "b78b6e34-e6c6-4ab3-bb21-218fc4303aee",
   "metadata": {},
   "source": [
    "# linalg\n",
    "\n",
    "> Numerical linear algebra utilities"
   ]
  },
  {
   "cell_type": "code",
   "execution_count": null,
   "id": "d13607a9-04bb-40ab-b706-c328fbca830e",
   "metadata": {},
   "outputs": [],
   "source": [
    "#| default_exp linalg"
   ]
  },
  {
   "cell_type": "code",
   "execution_count": null,
   "id": "d579d902-b2ad-4fc5-b708-49491e1a5518",
   "metadata": {},
   "outputs": [],
   "source": [
    "#| hide\n",
    "from nbdev.showdoc import *"
   ]
  },
  {
   "cell_type": "code",
   "execution_count": null,
   "id": "b696d7ad-1870-4288-abb2-c3dac0bfe288",
   "metadata": {},
   "outputs": [],
   "source": [
    "#| export\n",
    "import torch"
   ]
  },
  {
   "cell_type": "markdown",
   "id": "c56dc1fd-d38b-4633-884a-8073fca45bf7",
   "metadata": {},
   "source": [
    "## 2×2 and 3×3 Hermitian eigenvalue solvers\n",
    "\n",
    "Direct eigenvalue calculators for special matrices for which closed-form solutions exist (see [here](https://en.wikipedia.org/wiki/Eigenvalue_algorithm#Direct_calculation) for more details)."
   ]
  },
  {
   "cell_type": "code",
   "execution_count": null,
   "id": "64c35b6d-264c-4232-b78b-01cf3fcfcc1b",
   "metadata": {},
   "outputs": [],
   "source": [
    "#| exporti\n",
    "def _is_square(A: torch.Tensor) -> bool:\n",
    "    _, i, j, *_ = A.shape\n",
    "    assert i == j, \"Matrix is not square\"\n",
    "\n",
    "\n",
    "def _is_hermitian(A: torch.Tensor) -> bool:\n",
    "    return torch.testing.assert_close(\n",
    "        A, A.transpose(1, 2).conj(), msg=\"Matrix is not Hermitian\"\n",
    "    )"
   ]
  },
  {
   "cell_type": "code",
   "execution_count": null,
   "id": "eb8c753b-90d2-42c3-8137-3f626f86b4d2",
   "metadata": {},
   "outputs": [],
   "source": [
    "#| export\n",
    "def eigvalsh(A: torch.Tensor, check_valid: bool = True) -> torch.Tensor:\n",
    "    if check_valid:\n",
    "        _is_square(A)\n",
    "        _is_hermitian(A)\n",
    "    if A.shape[1] == 2:\n",
    "        return eigvalsh2(*A[:, *torch.triu_indices(2, 2)].split(1, dim=1))\n",
    "    elif A.shape[1] == 3:\n",
    "        return eigvalsh3(*A[:, *torch.triu_indices(3, 3)].split(1, dim=1))\n",
    "    else:\n",
    "        raise ValueError(\"Only supports 2×2 and 3×3 matrices\")"
   ]
  },
  {
   "cell_type": "code",
   "execution_count": null,
   "id": "4cd3b7c0-aea4-4ea6-8bea-d5448c877142",
   "metadata": {},
   "outputs": [],
   "source": [
    "#| export\n",
    "def eigvalsh2(ii, ij, jj):\n",
    "    tr = ii + jj\n",
    "    det = ii * jj - ij.square()\n",
    "\n",
    "    disc = (tr.square() - 4 * det).sqrt()\n",
    "    disc = torch.concat([-disc, disc], dim=1)\n",
    "\n",
    "    eigvals = (tr + disc) / 2\n",
    "    return eigvals"
   ]
  },
  {
   "cell_type": "code",
   "execution_count": null,
   "id": "07713224-ffe2-4eb9-a8cc-074eeb1f491b",
   "metadata": {},
   "outputs": [],
   "source": [
    "#| export\n",
    "def eigvalsh3(ii, ij, ik, jj, jk, kk):\n",
    "    q = (ii + jj + kk) / 3\n",
    "    p1 = torch.concat([ij, ik, jk], dim=-1).square().sum(-1, keepdim=True)\n",
    "    p2 = (torch.concat([ii, jj, kk], dim=-1) - q).square().sum(\n",
    "        dim=-1, keepdim=True\n",
    "    ) + 2 * p1\n",
    "    p = (p2 / 6).sqrt()\n",
    "\n",
    "    r = deth3(ii - q, ij, ik, jj - q, jk, kk - q) / p.pow(3) / 2\n",
    "    r = r.clamp(-1, 1)\n",
    "    phi = r.arccos() / 3\n",
    "\n",
    "    eig3 = q + 2 * p * phi.cos()\n",
    "    eig1 = q + 2 * p * (phi + 2 * torch.pi / 3).cos()\n",
    "    eig2 = 3 * q - eig1 - eig3\n",
    "    return torch.concat([eig1, eig2, eig3], dim=-1)"
   ]
  },
  {
   "cell_type": "code",
   "execution_count": null,
   "id": "f12bfa8e-7757-4742-8389-3b6f08179552",
   "metadata": {},
   "outputs": [],
   "source": [
    "#| exporti\n",
    "def deth3(ii, ij, ik, jj, jk, kk):\n",
    "    return (\n",
    "        ii * jj * kk\n",
    "        + 2 * ij * ik * jk\n",
    "        - ii * jk.square()\n",
    "        - jj * ik.square()\n",
    "        - kk * ij.square()\n",
    "    )"
   ]
  },
  {
   "cell_type": "code",
   "execution_count": null,
   "id": "3925420d-89b0-4291-96d2-a1a64ff98617",
   "metadata": {},
   "outputs": [],
   "source": [
    "#| hide\n",
    "import nbdev\n",
    "\n",
    "nbdev.nbdev_export()"
   ]
  },
  {
   "cell_type": "code",
   "execution_count": null,
   "id": "e95504de-5b2d-4ca4-be5d-e8fa5b3eff8e",
   "metadata": {},
   "outputs": [],
   "source": []
  }
 ],
 "metadata": {
  "kernelspec": {
   "display_name": "python3",
   "language": "python",
   "name": "python3"
  }
 },
 "nbformat": 4,
 "nbformat_minor": 5
}
